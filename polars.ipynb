{
 "cells": [
  {
   "cell_type": "code",
   "execution_count": 2,
   "metadata": {},
   "outputs": [
    {
     "name": "stdout",
     "output_type": "stream",
     "text": [
      "Requirement already satisfied: polars in c:\\users\\beatr\\appdata\\local\\packages\\pythonsoftwarefoundation.python.3.10_qbz5n2kfra8p0\\localcache\\local-packages\\python310\\site-packages (0.17.0)\n",
      "Requirement already satisfied: typing_extensions>=4.0.1 in c:\\users\\beatr\\appdata\\local\\packages\\pythonsoftwarefoundation.python.3.10_qbz5n2kfra8p0\\localcache\\local-packages\\python310\\site-packages (from polars) (4.5.0)\n",
      "Note: you may need to restart the kernel to use updated packages.\n"
     ]
    }
   ],
   "source": [
    "pip install polars"
   ]
  },
  {
   "cell_type": "code",
   "execution_count": 3,
   "metadata": {},
   "outputs": [],
   "source": [
    "import polars as pl"
   ]
  },
  {
   "cell_type": "code",
   "execution_count": 16,
   "metadata": {},
   "outputs": [
    {
     "data": {
      "text/html": [
       "<div><style>\n",
       ".dataframe > thead > tr > th,\n",
       ".dataframe > tbody > tr > td {\n",
       "  text-align: right;\n",
       "}\n",
       "</style>\n",
       "<small>shape: (5, 5)</small><table border=\"1\" class=\"dataframe\"><thead><tr><th>sepal_length</th><th>sepal_width</th><th>petal_length</th><th>petal_width</th><th>species</th></tr><tr><td>f64</td><td>f64</td><td>f64</td><td>f64</td><td>str</td></tr></thead><tbody><tr><td>5.1</td><td>3.5</td><td>1.4</td><td>0.2</td><td>&quot;setosa&quot;</td></tr><tr><td>4.9</td><td>3.0</td><td>1.4</td><td>0.2</td><td>&quot;setosa&quot;</td></tr><tr><td>4.7</td><td>3.2</td><td>1.3</td><td>0.2</td><td>&quot;setosa&quot;</td></tr><tr><td>4.6</td><td>3.1</td><td>1.5</td><td>0.2</td><td>&quot;setosa&quot;</td></tr><tr><td>5.0</td><td>3.6</td><td>1.4</td><td>0.2</td><td>&quot;setosa&quot;</td></tr></tbody></table></div>"
      ],
      "text/plain": [
       "shape: (5, 5)\n",
       "┌──────────────┬─────────────┬──────────────┬─────────────┬─────────┐\n",
       "│ sepal_length ┆ sepal_width ┆ petal_length ┆ petal_width ┆ species │\n",
       "│ ---          ┆ ---         ┆ ---          ┆ ---         ┆ ---     │\n",
       "│ f64          ┆ f64         ┆ f64          ┆ f64         ┆ str     │\n",
       "╞══════════════╪═════════════╪══════════════╪═════════════╪═════════╡\n",
       "│ 5.1          ┆ 3.5         ┆ 1.4          ┆ 0.2         ┆ setosa  │\n",
       "│ 4.9          ┆ 3.0         ┆ 1.4          ┆ 0.2         ┆ setosa  │\n",
       "│ 4.7          ┆ 3.2         ┆ 1.3          ┆ 0.2         ┆ setosa  │\n",
       "│ 4.6          ┆ 3.1         ┆ 1.5          ┆ 0.2         ┆ setosa  │\n",
       "│ 5.0          ┆ 3.6         ┆ 1.4          ┆ 0.2         ┆ setosa  │\n",
       "└──────────────┴─────────────┴──────────────┴─────────────┴─────────┘"
      ]
     },
     "execution_count": 16,
     "metadata": {},
     "output_type": "execute_result"
    }
   ],
   "source": [
    "df = pl.read_csv(\"https://j.mp/iriscsv\")\n",
    "df.head()"
   ]
  },
  {
   "cell_type": "code",
   "execution_count": 8,
   "metadata": {},
   "outputs": [
    {
     "data": {
      "text/html": [
       "<div><style>\n",
       ".dataframe > thead > tr > th,\n",
       ".dataframe > tbody > tr > td {\n",
       "  text-align: right;\n",
       "}\n",
       "</style>\n",
       "<small>shape: (3, 3)</small><table border=\"1\" class=\"dataframe\"><thead><tr><th>sepal_length</th><th>sepal_width</th><th>species</th></tr><tr><td>f64</td><td>f64</td><td>str</td></tr></thead><tbody><tr><td>5.1</td><td>3.5</td><td>&quot;setosa&quot;</td></tr><tr><td>4.9</td><td>3.0</td><td>&quot;setosa&quot;</td></tr><tr><td>4.7</td><td>3.2</td><td>&quot;setosa&quot;</td></tr></tbody></table></div>"
      ],
      "text/plain": [
       "shape: (3, 3)\n",
       "┌──────────────┬─────────────┬─────────┐\n",
       "│ sepal_length ┆ sepal_width ┆ species │\n",
       "│ ---          ┆ ---         ┆ ---     │\n",
       "│ f64          ┆ f64         ┆ str     │\n",
       "╞══════════════╪═════════════╪═════════╡\n",
       "│ 5.1          ┆ 3.5         ┆ setosa  │\n",
       "│ 4.9          ┆ 3.0         ┆ setosa  │\n",
       "│ 4.7          ┆ 3.2         ┆ setosa  │\n",
       "└──────────────┴─────────────┴─────────┘"
      ]
     },
     "execution_count": 8,
     "metadata": {},
     "output_type": "execute_result"
    }
   ],
   "source": [
    "df.select(pl.col(['sepal_length', 'sepal_width','species']) ).limit(3)"
   ]
  },
  {
   "cell_type": "code",
   "execution_count": 14,
   "metadata": {},
   "outputs": [
    {
     "data": {
      "text/html": [
       "<div><style>\n",
       ".dataframe > thead > tr > th,\n",
       ".dataframe > tbody > tr > td {\n",
       "  text-align: right;\n",
       "}\n",
       "</style>\n",
       "<small>shape: (6, 5)</small><table border=\"1\" class=\"dataframe\"><thead><tr><th>sepal_length</th><th>sepal_width</th><th>petal_length</th><th>petal_width</th><th>species</th></tr><tr><td>f64</td><td>f64</td><td>f64</td><td>f64</td><td>str</td></tr></thead><tbody><tr><td>7.6</td><td>3.0</td><td>6.6</td><td>2.1</td><td>&quot;virginica&quot;</td></tr><tr><td>7.7</td><td>3.8</td><td>6.7</td><td>2.2</td><td>&quot;virginica&quot;</td></tr><tr><td>7.7</td><td>2.6</td><td>6.9</td><td>2.3</td><td>&quot;virginica&quot;</td></tr><tr><td>7.7</td><td>2.8</td><td>6.7</td><td>2.0</td><td>&quot;virginica&quot;</td></tr><tr><td>7.9</td><td>3.8</td><td>6.4</td><td>2.0</td><td>&quot;virginica&quot;</td></tr><tr><td>7.7</td><td>3.0</td><td>6.1</td><td>2.3</td><td>&quot;virginica&quot;</td></tr></tbody></table></div>"
      ],
      "text/plain": [
       "shape: (6, 5)\n",
       "┌──────────────┬─────────────┬──────────────┬─────────────┬───────────┐\n",
       "│ sepal_length ┆ sepal_width ┆ petal_length ┆ petal_width ┆ species   │\n",
       "│ ---          ┆ ---         ┆ ---          ┆ ---         ┆ ---       │\n",
       "│ f64          ┆ f64         ┆ f64          ┆ f64         ┆ str       │\n",
       "╞══════════════╪═════════════╪══════════════╪═════════════╪═══════════╡\n",
       "│ 7.6          ┆ 3.0         ┆ 6.6          ┆ 2.1         ┆ virginica │\n",
       "│ 7.7          ┆ 3.8         ┆ 6.7          ┆ 2.2         ┆ virginica │\n",
       "│ 7.7          ┆ 2.6         ┆ 6.9          ┆ 2.3         ┆ virginica │\n",
       "│ 7.7          ┆ 2.8         ┆ 6.7          ┆ 2.0         ┆ virginica │\n",
       "│ 7.9          ┆ 3.8         ┆ 6.4          ┆ 2.0         ┆ virginica │\n",
       "│ 7.7          ┆ 3.0         ┆ 6.1          ┆ 2.3         ┆ virginica │\n",
       "└──────────────┴─────────────┴──────────────┴─────────────┴───────────┘"
      ]
     },
     "execution_count": 14,
     "metadata": {},
     "output_type": "execute_result"
    }
   ],
   "source": [
    "df.filter( (pl.col('sepal_length') > 7.5) & (pl.col('species') == 'virginica') )"
   ]
  },
  {
   "cell_type": "code",
   "execution_count": 18,
   "metadata": {},
   "outputs": [
    {
     "data": {
      "text/html": [
       "<div><style>\n",
       ".dataframe > thead > tr > th,\n",
       ".dataframe > tbody > tr > td {\n",
       "  text-align: right;\n",
       "}\n",
       "</style>\n",
       "<small>shape: (5, 6)</small><table border=\"1\" class=\"dataframe\"><thead><tr><th>sepal_length</th><th>sepal_width</th><th>petal_length</th><th>petal_width</th><th>species</th><th>soma_width</th></tr><tr><td>f64</td><td>f64</td><td>f64</td><td>f64</td><td>str</td><td>f64</td></tr></thead><tbody><tr><td>5.1</td><td>3.5</td><td>1.4</td><td>0.2</td><td>&quot;setosa&quot;</td><td>3.7</td></tr><tr><td>4.9</td><td>3.0</td><td>1.4</td><td>0.2</td><td>&quot;setosa&quot;</td><td>3.2</td></tr><tr><td>4.7</td><td>3.2</td><td>1.3</td><td>0.2</td><td>&quot;setosa&quot;</td><td>3.4</td></tr><tr><td>4.6</td><td>3.1</td><td>1.5</td><td>0.2</td><td>&quot;setosa&quot;</td><td>3.3</td></tr><tr><td>5.0</td><td>3.6</td><td>1.4</td><td>0.2</td><td>&quot;setosa&quot;</td><td>3.8</td></tr></tbody></table></div>"
      ],
      "text/plain": [
       "shape: (5, 6)\n",
       "┌──────────────┬─────────────┬──────────────┬─────────────┬─────────┬────────────┐\n",
       "│ sepal_length ┆ sepal_width ┆ petal_length ┆ petal_width ┆ species ┆ soma_width │\n",
       "│ ---          ┆ ---         ┆ ---          ┆ ---         ┆ ---     ┆ ---        │\n",
       "│ f64          ┆ f64         ┆ f64          ┆ f64         ┆ str     ┆ f64        │\n",
       "╞══════════════╪═════════════╪══════════════╪═════════════╪═════════╪════════════╡\n",
       "│ 5.1          ┆ 3.5         ┆ 1.4          ┆ 0.2         ┆ setosa  ┆ 3.7        │\n",
       "│ 4.9          ┆ 3.0         ┆ 1.4          ┆ 0.2         ┆ setosa  ┆ 3.2        │\n",
       "│ 4.7          ┆ 3.2         ┆ 1.3          ┆ 0.2         ┆ setosa  ┆ 3.4        │\n",
       "│ 4.6          ┆ 3.1         ┆ 1.5          ┆ 0.2         ┆ setosa  ┆ 3.3        │\n",
       "│ 5.0          ┆ 3.6         ┆ 1.4          ┆ 0.2         ┆ setosa  ┆ 3.8        │\n",
       "└──────────────┴─────────────┴──────────────┴─────────────┴─────────┴────────────┘"
      ]
     },
     "execution_count": 18,
     "metadata": {},
     "output_type": "execute_result"
    }
   ],
   "source": [
    "df.with_columns([ (pl.col('sepal_width')+ pl.col('petal_width')).alias('soma_width')]).head()"
   ]
  },
  {
   "cell_type": "code",
   "execution_count": 24,
   "metadata": {},
   "outputs": [
    {
     "data": {
      "text/html": [
       "<div><style>\n",
       ".dataframe > thead > tr > th,\n",
       ".dataframe > tbody > tr > td {\n",
       "  text-align: right;\n",
       "}\n",
       "</style>\n",
       "<small>shape: (3, 5)</small><table border=\"1\" class=\"dataframe\"><thead><tr><th>species</th><th>sepal_length</th><th>sepal_width</th><th>petal_length</th><th>petal_width</th></tr><tr><td>str</td><td>f64</td><td>f64</td><td>f64</td><td>f64</td></tr></thead><tbody><tr><td>&quot;setosa&quot;</td><td>250.3</td><td>170.9</td><td>73.2</td><td>12.2</td></tr><tr><td>&quot;versicolor&quot;</td><td>296.8</td><td>138.5</td><td>213.0</td><td>66.3</td></tr><tr><td>&quot;virginica&quot;</td><td>329.4</td><td>148.7</td><td>277.6</td><td>101.3</td></tr></tbody></table></div>"
      ],
      "text/plain": [
       "shape: (3, 5)\n",
       "┌────────────┬──────────────┬─────────────┬──────────────┬─────────────┐\n",
       "│ species    ┆ sepal_length ┆ sepal_width ┆ petal_length ┆ petal_width │\n",
       "│ ---        ┆ ---          ┆ ---         ┆ ---          ┆ ---         │\n",
       "│ str        ┆ f64          ┆ f64         ┆ f64          ┆ f64         │\n",
       "╞════════════╪══════════════╪═════════════╪══════════════╪═════════════╡\n",
       "│ setosa     ┆ 250.3        ┆ 170.9       ┆ 73.2         ┆ 12.2        │\n",
       "│ versicolor ┆ 296.8        ┆ 138.5       ┆ 213.0        ┆ 66.3        │\n",
       "│ virginica  ┆ 329.4        ┆ 148.7       ┆ 277.6        ┆ 101.3       │\n",
       "└────────────┴──────────────┴─────────────┴──────────────┴─────────────┘"
      ]
     },
     "execution_count": 24,
     "metadata": {},
     "output_type": "execute_result"
    }
   ],
   "source": [
    "df.groupby(\"species\", maintain_order = True).agg(pl.all().sum()) "
   ]
  },
  {
   "cell_type": "code",
   "execution_count": 23,
   "metadata": {},
   "outputs": [
    {
     "data": {
      "text/html": [
       "<div><style>\n",
       ".dataframe > thead > tr > th,\n",
       ".dataframe > tbody > tr > td {\n",
       "  text-align: right;\n",
       "}\n",
       "</style>\n",
       "<small>shape: (2, 5)</small><table border=\"1\" class=\"dataframe\"><thead><tr><th>species</th><th>sepal_length</th><th>sepal_width</th><th>petal_length</th><th>petal_width</th></tr><tr><td>str</td><td>f64</td><td>f64</td><td>f64</td><td>f64</td></tr></thead><tbody><tr><td>&quot;versicolor&quot;</td><td>6.45</td><td>2.89</td><td>4.585</td><td>1.42</td></tr><tr><td>&quot;virginica&quot;</td><td>6.778049</td><td>3.036585</td><td>5.682927</td><td>2.056098</td></tr></tbody></table></div>"
      ],
      "text/plain": [
       "shape: (2, 5)\n",
       "┌────────────┬──────────────┬─────────────┬──────────────┬─────────────┐\n",
       "│ species    ┆ sepal_length ┆ sepal_width ┆ petal_length ┆ petal_width │\n",
       "│ ---        ┆ ---          ┆ ---         ┆ ---          ┆ ---         │\n",
       "│ str        ┆ f64          ┆ f64         ┆ f64          ┆ f64         │\n",
       "╞════════════╪══════════════╪═════════════╪══════════════╪═════════════╡\n",
       "│ versicolor ┆ 6.45         ┆ 2.89        ┆ 4.585        ┆ 1.42        │\n",
       "│ virginica  ┆ 6.778049     ┆ 3.036585    ┆ 5.682927     ┆ 2.056098    │\n",
       "└────────────┴──────────────┴─────────────┴──────────────┴─────────────┘"
      ]
     },
     "execution_count": 23,
     "metadata": {},
     "output_type": "execute_result"
    }
   ],
   "source": [
    "df.filter(pl.col(\"sepal_length\") > 6).groupby(\"species\", maintain_order = True).agg(pl.all().mean())"
   ]
  }
 ],
 "metadata": {
  "kernelspec": {
   "display_name": "Python 3",
   "language": "python",
   "name": "python3"
  },
  "language_info": {
   "codemirror_mode": {
    "name": "ipython",
    "version": 3
   },
   "file_extension": ".py",
   "mimetype": "text/x-python",
   "name": "python",
   "nbconvert_exporter": "python",
   "pygments_lexer": "ipython3",
   "version": "3.10.11"
  },
  "orig_nbformat": 4
 },
 "nbformat": 4,
 "nbformat_minor": 2
}
